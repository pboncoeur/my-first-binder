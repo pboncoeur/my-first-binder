{
  "cells": [
    {
      "cell_type": "markdown",
      "metadata": {
        "id": "view-in-github",
        "colab_type": "text"
      },
      "source": [
        "<a href=\"https://colab.research.google.com/github/pboncoeur/my-first-binder/blob/main/S7_extract_PDF_info_3_pages.ipynb\" target=\"_parent\"><img src=\"https://colab.research.google.com/assets/colab-badge.svg\" alt=\"Open In Colab\"/></a>"
      ]
    },
    {
      "cell_type": "code",
      "source": [
        "! pip install PyPDF2"
      ],
      "metadata": {
        "colab": {
          "base_uri": "https://localhost:8080/"
        },
        "id": "rWLbt17_xPgi",
        "outputId": "4a5ff178-1eac-476d-bfb7-ba92b8328015"
      },
      "id": "rWLbt17_xPgi",
      "execution_count": 1,
      "outputs": [
        {
          "output_type": "stream",
          "name": "stdout",
          "text": [
            "Requirement already satisfied: PyPDF2 in /usr/local/lib/python3.10/dist-packages (3.0.1)\n"
          ]
        }
      ]
    },
    {
      "cell_type": "code",
      "execution_count": 2,
      "id": "dc1b0b26",
      "metadata": {
        "id": "dc1b0b26"
      },
      "outputs": [],
      "source": [
        "from PyPDF2 import PdfReader"
      ]
    },
    {
      "cell_type": "raw",
      "id": "a898a087",
      "metadata": {
        "id": "a898a087"
      },
      "source": [
        "reader = PdfReader(\"ebook_sample.pdf\")\n",
        "number_of_pages = len(reader.pages)\n",
        "page = reader.pages[2]\n",
        "text = page.extract_text()"
      ]
    },
    {
      "cell_type": "raw",
      "id": "3aa269c1",
      "metadata": {
        "id": "3aa269c1"
      },
      "source": [
        "print(\"Number of pages\", number_of_pages)\n",
        "print(text)"
      ]
    },
    {
      "cell_type": "code",
      "execution_count": 2,
      "id": "8f4bb4b4",
      "metadata": {
        "id": "8f4bb4b4"
      },
      "outputs": [],
      "source": []
    },
    {
      "cell_type": "code",
      "source": [
        "from google.colab import drive\n",
        "drive.mount('/content/drive')"
      ],
      "metadata": {
        "colab": {
          "base_uri": "https://localhost:8080/"
        },
        "id": "oZIQdgXCx-eE",
        "outputId": "0f18f026-31bd-4a4f-b682-63b09d6633b5"
      },
      "id": "oZIQdgXCx-eE",
      "execution_count": 3,
      "outputs": [
        {
          "output_type": "stream",
          "name": "stdout",
          "text": [
            "Drive already mounted at /content/drive; to attempt to forcibly remount, call drive.mount(\"/content/drive\", force_remount=True).\n"
          ]
        }
      ]
    },
    {
      "cell_type": "code",
      "source": [
        "%ls"
      ],
      "metadata": {
        "colab": {
          "base_uri": "https://localhost:8080/"
        },
        "id": "eamWZ5h1yyU4",
        "outputId": "80ee4b40-9855-478f-dfbe-d35f31a96e5c"
      },
      "id": "eamWZ5h1yyU4",
      "execution_count": 5,
      "outputs": [
        {
          "output_type": "stream",
          "name": "stdout",
          "text": [
            "\u001b[0m\u001b[01;34mdrive\u001b[0m/  from_pdf.txt  \u001b[01;34msample_data\u001b[0m/\n"
          ]
        }
      ]
    },
    {
      "cell_type": "code",
      "execution_count": 9,
      "id": "2963fcb4",
      "metadata": {
        "colab": {
          "base_uri": "https://localhost:8080/"
        },
        "id": "2963fcb4",
        "outputId": "ee58dd6a-698b-412c-e782-90c0280bbf00"
      },
      "outputs": [
        {
          "output_type": "stream",
          "name": "stdout",
          "text": [
            "Number of pages 14\n"
          ]
        }
      ],
      "source": [
        "try:\n",
        "    with open(\"/content/sample_data/from_pdf.txt\", 'w') as f:\n",
        "\n",
        "        reader = PdfReader(\"/content/sample_data/ebook_sample.pdf\")\n",
        "        number_of_pages = len(reader.pages)\n",
        "\n",
        "        for p_index in range(number_of_pages):\n",
        "            page = reader.pages[p_index]\n",
        "            text = page.extract_text()\n",
        "\n",
        "            f.write(\"Page {0}\\n\".format(p_index+1))\n",
        "            f.write(text)\n",
        "            f.write(\"\\n\\n\\n\\n\\n\\n\\n\")\n",
        "\n",
        "except:\n",
        "\n",
        "    print(\"Some errors occured in the processs..\")\n",
        "\n",
        "else:\n",
        "    print(\"Number of pages\", number_of_pages)"
      ]
    },
    {
      "cell_type": "code",
      "execution_count": 4,
      "id": "bc2efcc2",
      "metadata": {
        "id": "bc2efcc2"
      },
      "outputs": [],
      "source": []
    }
  ],
  "metadata": {
    "kernelspec": {
      "display_name": "Python 3 (ipykernel)",
      "language": "python",
      "name": "python3"
    },
    "language_info": {
      "codemirror_mode": {
        "name": "ipython",
        "version": 3
      },
      "file_extension": ".py",
      "mimetype": "text/x-python",
      "name": "python",
      "nbconvert_exporter": "python",
      "pygments_lexer": "ipython3",
      "version": "3.10.12"
    },
    "vp": {
      "vp_config_version": "1.0.0",
      "vp_menu_width": 273,
      "vp_note_display": false,
      "vp_note_width": 263,
      "vp_position": {
        "width": 278
      },
      "vp_section_display": false,
      "vp_signature": "VisualPython"
    },
    "colab": {
      "provenance": [],
      "include_colab_link": true
    }
  },
  "nbformat": 4,
  "nbformat_minor": 5
}